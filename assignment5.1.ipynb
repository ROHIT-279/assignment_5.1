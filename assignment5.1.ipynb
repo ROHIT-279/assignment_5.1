{
 "cells": [
  {
   "cell_type": "code",
   "execution_count": 1,
   "id": "b8551129-2c28-4851-a757-2ba0ba3c0a72",
   "metadata": {},
   "outputs": [],
   "source": [
    "#Q1.In Python, an exception is an event that occurs during the execution of a program that disrupts the normal flow of instructions. When an exceptional situation occurs, the program raises an exception, which can be caught and handled by appropriate exception handling code. Exceptions allow you to handle errors and unexpected situations gracefully, preventing the program from crashing and providing the ability to recover or take alternative actions.\n"
   ]
  },
  {
   "cell_type": "code",
   "execution_count": 2,
   "id": "6b0e2ca5-255e-44f9-a9d1-d5b39da838bf",
   "metadata": {},
   "outputs": [],
   "source": [
    "#Q1. 2. \n",
    "#1. Exceptions occur during the execution of a program, while syntax errors are detected during the parsing phase before execution.\n",
    "#2. Exceptions indicate exceptional or error conditions that may occur during program execution, such as division by zero, accessing an undefined variable, or attempting to open a non-existent file. Syntax errors, on the other hand, indicate violations of the Python language syntax rules, such as missing parentheses, incorrect indentation, or using an undefined variable.\n",
    "#3.Exceptions can be caught and handled using try-except blocks, allowing the program to handle the exceptional situation gracefully or take appropriate actions. Syntax errors cannot be caught and handled because they prevent the program from running in the first place. They must be fixed by correcting the code."
   ]
  },
  {
   "cell_type": "code",
   "execution_count": 3,
   "id": "12ab1f86-6bd7-433d-bcc7-7b9a297c414f",
   "metadata": {},
   "outputs": [
    {
     "ename": "IndentationError",
     "evalue": "unexpected indent (2003540665.py, line 3)",
     "output_type": "error",
     "traceback": [
      "\u001b[0;36m  Cell \u001b[0;32mIn[3], line 3\u001b[0;36m\u001b[0m\n\u001b[0;31m    a = 10\u001b[0m\n\u001b[0m    ^\u001b[0m\n\u001b[0;31mIndentationError\u001b[0m\u001b[0;31m:\u001b[0m unexpected indent\n"
     ]
    }
   ],
   "source": [
    "#Q2.1. When an exception is not handled in Python, it results in the termination of the program and an error message is displayed, indicating the type of exception that occurred and the traceback information, which shows the sequence of function calls that led to the exception.\n",
    "#2.\n",
    " a = 10\n",
    "    a/0"
   ]
  },
  {
   "cell_type": "code",
   "execution_count": 15,
   "id": "677c1b00-5d6c-48c0-be5e-f125f303146b",
   "metadata": {},
   "outputs": [],
   "source": [
    "#Q3. In Python, the try-except statement is used to catch and handle exceptions. The try block contains the code that may raise an exception, and the except block specifies the code to be executed when a specific exception is encountered.\n",
    "#2.\n",
    "class valideage_exc(Exception):\n",
    "    def __init__(self, msg):\n",
    "        self.age = msg"
   ]
  },
  {
   "cell_type": "code",
   "execution_count": 24,
   "id": "b9baed35-5dfa-4de7-8d5a-b861a8920eef",
   "metadata": {},
   "outputs": [],
   "source": [
    "\n",
    "\n",
    "def valideage(age):\n",
    "    if age < 0 :\n",
    "        raise valideage_exc(\"THE AGE DOSEN'T NEGETIVE\")\n",
    "    elif age > 200 :\n",
    "        raise valideage_exc(\"THIS AGE IS TOO MUCH\")\n",
    "    else :\n",
    "        print(\"this is normal\")\n",
    "        "
   ]
  },
  {
   "cell_type": "code",
   "execution_count": null,
   "id": "2be1a660-5b1c-463c-8439-7549da3d5a55",
   "metadata": {
    "tags": []
   },
   "outputs": [],
   "source": [
    "try :\n",
    "    age = int(input(\"Enter your age\"))\n",
    "    valideage(age)\n",
    "except Valideage_exc as e:\n",
    "    peint(e.msg)\n",
    "              "
   ]
  },
  {
   "cell_type": "code",
   "execution_count": 33,
   "id": "b880a4c2-17a3-4cb0-9a7d-837068a8c5b7",
   "metadata": {},
   "outputs": [
    {
     "name": "stdout",
     "output_type": "stream",
     "text": [
      "Error: Cannot divide by zero!\n"
     ]
    }
   ],
   "source": [
    "#Q4.\n",
    "#1.\n",
    "try:\n",
    "    x = 10 / 0  # This line will raise a ZeroDivisionError\n",
    "except ZeroDivisionError:\n",
    "    print(\"Error: Cannot divide by zero!\")\n",
    "else:\n",
    "    print(\"Division successful. Result:\", x)\n"
   ]
  },
  {
   "cell_type": "code",
   "execution_count": 34,
   "id": "dabfcbb6-4ba5-4ff5-aa72-e01801b1afc1",
   "metadata": {},
   "outputs": [
    {
     "name": "stdout",
     "output_type": "stream",
     "text": [
      "Error: File not found!\n"
     ]
    },
    {
     "ename": "NameError",
     "evalue": "name 'file' is not defined",
     "output_type": "error",
     "traceback": [
      "\u001b[0;31m---------------------------------------------------------------------------\u001b[0m",
      "\u001b[0;31mNameError\u001b[0m                                 Traceback (most recent call last)",
      "Cell \u001b[0;32mIn[34], line 8\u001b[0m\n\u001b[1;32m      6\u001b[0m     \u001b[38;5;28mprint\u001b[39m(\u001b[38;5;124m\"\u001b[39m\u001b[38;5;124mError: File not found!\u001b[39m\u001b[38;5;124m\"\u001b[39m)\n\u001b[1;32m      7\u001b[0m \u001b[38;5;28;01mfinally\u001b[39;00m:\n\u001b[0;32m----> 8\u001b[0m     \u001b[38;5;28;01mif\u001b[39;00m \u001b[43mfile\u001b[49m:\n\u001b[1;32m      9\u001b[0m         file\u001b[38;5;241m.\u001b[39mclose()\n\u001b[1;32m     10\u001b[0m     \u001b[38;5;28mprint\u001b[39m(\u001b[38;5;124m\"\u001b[39m\u001b[38;5;124mFile closed.\u001b[39m\u001b[38;5;124m\"\u001b[39m)\n",
      "\u001b[0;31mNameError\u001b[0m: name 'file' is not defined"
     ]
    }
   ],
   "source": [
    "#2.\n",
    "try:\n",
    "    file = open(\"example.txt\", \"r\")\n",
    "    # Perform some operations with the file\n",
    "except FileNotFoundError:\n",
    "    print(\"Error: File not found!\")\n",
    "finally:\n",
    "    if file:\n",
    "        file.close()\n",
    "    print(\"File closed.\")\n"
   ]
  },
  {
   "cell_type": "code",
   "execution_count": 35,
   "id": "756411da-0698-40c4-881a-e01014a51084",
   "metadata": {},
   "outputs": [
    {
     "name": "stdout",
     "output_type": "stream",
     "text": [
      "Error: Division by zero is not allowed.\n"
     ]
    }
   ],
   "source": [
    "#3.\n",
    "def divide(a, b):\n",
    "    if b == 0:\n",
    "        raise ValueError(\"Division by zero is not allowed.\")\n",
    "    return a / b\n",
    "try:\n",
    "    result = divide(10, 0)\n",
    "except ValueError as e:\n",
    "    print(\"Error:\", str(e))"
   ]
  },
  {
   "cell_type": "code",
   "execution_count": 36,
   "id": "79ea0015-1acc-4147-b151-574074e11c16",
   "metadata": {},
   "outputs": [
    {
     "name": "stdout",
     "output_type": "stream",
     "text": [
      "Error: Invalid data: empty input\n"
     ]
    }
   ],
   "source": [
    "#Q5.\n",
    "#1.In Python, a custom exception refers to an exception class that you define yourself to handle specific error conditions or exceptional cases in your code. Custom exceptions are created by subclassing built-in exception classes or the base Exception class.\n",
    "#3.\n",
    "class CustomException(Exception):\n",
    "    pass\n",
    "\n",
    "def process_data(data):\n",
    "    if not data:\n",
    "        raise CustomException(\"Invalid data: empty input\")\n",
    "\n",
    "try:\n",
    "    process_data([])\n",
    "except CustomException as e:\n",
    "    print(\"Error:\", str(e))\n"
   ]
  },
  {
   "cell_type": "code",
   "execution_count": 37,
   "id": "1291844c-7ac5-4670-aaf6-3c8d1d20cd7c",
   "metadata": {},
   "outputs": [],
   "source": [
    "#2.Specific Error Handling , Readable and Meaningful Error Messages ,Code Organization and Maintainability , Separation of Concerns"
   ]
  },
  {
   "cell_type": "code",
   "execution_count": null,
   "id": "2aac5d92-ed00-45b4-a2c9-d0ade736ab27",
   "metadata": {},
   "outputs": [],
   "source": [
    "#Q6.\n"
   ]
  }
 ],
 "metadata": {
  "kernelspec": {
   "display_name": "Python 3 (ipykernel)",
   "language": "python",
   "name": "python3"
  },
  "language_info": {
   "codemirror_mode": {
    "name": "ipython",
    "version": 3
   },
   "file_extension": ".py",
   "mimetype": "text/x-python",
   "name": "python",
   "nbconvert_exporter": "python",
   "pygments_lexer": "ipython3",
   "version": "3.10.8"
  }
 },
 "nbformat": 4,
 "nbformat_minor": 5
}
